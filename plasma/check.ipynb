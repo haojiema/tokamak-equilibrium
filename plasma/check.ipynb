{
 "cells": [
  {
   "cell_type": "code",
   "execution_count": null,
   "metadata": {},
   "outputs": [],
   "source": [
    "import os, sys\n",
    "sys.path.append('..')\n",
    "import plasma.mat as pm\n",
    "import plot as pc\n",
    "from global_variables import gparam\n",
    "gl = gparam()"
   ]
  },
  {
   "cell_type": "code",
   "execution_count": null,
   "metadata": {},
   "outputs": [],
   "source": [
    "pc.contour(pm.cget(72,2), 0, -1.8, 0.05, 0.05)"
   ]
  },
  {
   "cell_type": "code",
   "execution_count": null,
   "metadata": {},
   "outputs": [],
   "source": [
    "a = pm.plasma_cur_parabolic(0.6, 0.2, 1, 0.3, gl.cr_pos, gl.cz_pos)\n",
    "pc.heatmap(a, gl.cr_min, gl.cz_min, gl.cdel_r, gl.cdel_z)"
   ]
  },
  {
   "cell_type": "code",
   "execution_count": null,
   "metadata": {},
   "outputs": [],
   "source": [
    "pc.contour(pm.cflux(a), gl.cr_min, gl.cz_min, gl.cdel_r, gl.cdel_z)"
   ]
  },
  {
   "cell_type": "code",
   "execution_count": null,
   "metadata": {},
   "outputs": [],
   "source": []
  }
 ],
 "metadata": {
  "interpreter": {
   "hash": "f0ba4514462a8f2a4fb76e7183215a80ea7cd0b2bc81425d0540a02e9a6532a8"
  },
  "kernelspec": {
   "display_name": "Python 3.9.1 ('env39')",
   "language": "python",
   "name": "python3"
  },
  "language_info": {
   "codemirror_mode": {
    "name": "ipython",
    "version": 3
   },
   "file_extension": ".py",
   "mimetype": "text/x-python",
   "name": "python",
   "nbconvert_exporter": "python",
   "pygments_lexer": "ipython3",
   "version": "3.9.1"
  },
  "orig_nbformat": 4
 },
 "nbformat": 4,
 "nbformat_minor": 2
}
