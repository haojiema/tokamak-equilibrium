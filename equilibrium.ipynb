{
 "cells": [
  {
   "cell_type": "code",
   "execution_count": null,
   "metadata": {},
   "outputs": [],
   "source": [
    "import sub.plot as pl\n",
    "import sub.functions as sb\n",
    "from global_variables import gparam\n",
    "gl = gparam()"
   ]
  },
  {
   "cell_type": "code",
   "execution_count": null,
   "metadata": {},
   "outputs": [],
   "source": [
    "condition = {\n",
    "    # TF current\n",
    "    'cur_tf':50, \n",
    "    \n",
    "    # initial plasma profile\n",
    "    'cur_ip':{'ip':-50, 'r0':0.65, 'z0':0.0, 'radius':0.3},\n",
    "    \n",
    "    # PF currents\n",
    "    'cur_pf':{'hcult16':0.0,'pf17t12':0.5, 'pf26t18':1.0,'pf4_1ab3_cc2':1.0,'pf35_2':-0.5, },\n",
    "    \n",
    "    # number of coefficients\n",
    "    'num_dpr':2, # dp/df\n",
    "    'num_di2':2, # di2/df\n",
    "    \n",
    "    'resolution': gl.get_dmat_coarse(),\n",
    "    'error':[]\n",
    "    }"
   ]
  },
  {
   "cell_type": "code",
   "execution_count": null,
   "metadata": {},
   "outputs": [],
   "source": [
    "# calculate plasma equilibrium\n",
    "cond = sb.calc_equilibrium(condition, verbose=1)"
   ]
  },
  {
   "cell_type": "code",
   "execution_count": null,
   "metadata": {},
   "outputs": [],
   "source": [
    "# calculated parameters\n",
    "cond.keys()"
   ]
  },
  {
   "cell_type": "code",
   "execution_count": null,
   "metadata": {},
   "outputs": [],
   "source": [
    "# total flux profile\n",
    "pl.d_contour(cond['flux'])"
   ]
  },
  {
   "cell_type": "code",
   "execution_count": null,
   "metadata": {},
   "outputs": [],
   "source": [
    "# Plasma current profile\n",
    "pl.d_contour(cond['jt'])"
   ]
  },
  {
   "cell_type": "code",
   "execution_count": null,
   "metadata": {},
   "outputs": [],
   "source": [
    "# pressure\n",
    "pl.d_contour(cond['pressure'])"
   ]
  },
  {
   "cell_type": "code",
   "execution_count": null,
   "metadata": {},
   "outputs": [],
   "source": [
    "# poloidal current\n",
    "pl.d_contour(cond['pol_current'])"
   ]
  },
  {
   "cell_type": "code",
   "execution_count": null,
   "metadata": {},
   "outputs": [],
   "source": [
    "# vessel \n",
    "pl.d_heatmap(cond['vessel'])"
   ]
  },
  {
   "cell_type": "code",
   "execution_count": null,
   "metadata": {},
   "outputs": [],
   "source": [
    "# domain\n",
    "pl.d_heatmap(cond['domain'])"
   ]
  },
  {
   "cell_type": "code",
   "execution_count": null,
   "metadata": {},
   "outputs": [],
   "source": []
  }
 ],
 "metadata": {
  "interpreter": {
   "hash": "f0ba4514462a8f2a4fb76e7183215a80ea7cd0b2bc81425d0540a02e9a6532a8"
  },
  "kernelspec": {
   "display_name": "Python 3.9.1 ('env39')",
   "language": "python",
   "name": "python3"
  },
  "language_info": {
   "codemirror_mode": {
    "name": "ipython",
    "version": 3
   },
   "file_extension": ".py",
   "mimetype": "text/x-python",
   "name": "python",
   "nbconvert_exporter": "python",
   "pygments_lexer": "ipython3",
   "version": "3.9.1"
  },
  "orig_nbformat": 4
 },
 "nbformat": 4,
 "nbformat_minor": 2
}
