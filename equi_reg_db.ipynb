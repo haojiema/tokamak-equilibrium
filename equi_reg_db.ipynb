{
 "cells": [
  {
   "cell_type": "code",
   "execution_count": 1,
   "metadata": {},
   "outputs": [],
   "source": [
    "import itertools\n",
    "import numpy as np\n",
    "import sub.plot as pl\n",
    "import sub.functions as sb\n",
    "import sub.db as sdb\n",
    "from global_variables import gparam\n",
    "gl = gparam()"
   ]
  },
  {
   "cell_type": "code",
   "execution_count": 2,
   "metadata": {},
   "outputs": [],
   "source": [
    "condition = {\n",
    "    # TF current\n",
    "    'cur_tf':{'tf':50.0, 'turn': 16},\n",
    "    \n",
    "    # initial plasma profile\n",
    "    'cur_ip':{'ip':-100.0, 'r0':0.65, 'z0':0.0, 'radius':0.3},\n",
    "    \n",
    "    # PF currents\n",
    "    'cur_pf':{'hcult16':0.0,'pf17t12':0.5, 'pf26t18':1.0,'pf4_1ab3_cc2':0.0,'pf35_2':0.0, },\n",
    "    \n",
    "    # number of coefficients\n",
    "    'num_dpr':2, # dp/df\n",
    "    'num_di2':2, # di2/df\n",
    "    \n",
    "    'resolution': gl.get_dmat_coarse(),\n",
    "    }"
   ]
  },
  {
   "cell_type": "code",
   "execution_count": 3,
   "metadata": {},
   "outputs": [],
   "source": [
    "table_name='test'\n",
    "r0 = np.linspace(0.5, 0.7, 3)\n",
    "pf17 = np.linspace(0.0, 2.0, 3)\n",
    "pf26 = np.linspace(0.0, 2.0, 3)\n"
   ]
  },
  {
   "cell_type": "code",
   "execution_count": 4,
   "metadata": {},
   "outputs": [
    {
     "name": "stdout",
     "output_type": "stream",
     "text": [
      "0.5 0.0 0.0\n",
      "0.5 0.0 1.0\n",
      "0.5 0.0 2.0\n",
      "0.5 1.0 0.0\n",
      "0.5 1.0 1.0\n",
      "0.5 1.0 2.0\n",
      "0.5 2.0 0.0\n",
      "0.5 2.0 1.0\n",
      "0.5 2.0 2.0\n",
      "0.6 0.0 0.0\n",
      "0.6 0.0 1.0\n",
      "0.6 0.0 2.0\n",
      "0.6 1.0 0.0\n",
      "0.6 1.0 1.0\n",
      "0.6 1.0 2.0\n",
      "0.6 2.0 0.0\n",
      "0.6 2.0 1.0\n",
      "0.6 2.0 2.0\n",
      "0.7 0.0 0.0\n",
      "0.7 0.0 1.0\n",
      "0.7 0.0 2.0\n",
      "0.7 1.0 0.0\n",
      "0.7 1.0 1.0\n",
      "0.7 1.0 2.0\n",
      "0.7 2.0 0.0\n",
      "0.7 2.0 1.0\n",
      "0.7 2.0 2.0\n"
     ]
    }
   ],
   "source": [
    "# 計算してDBへ登録\n",
    "dbeq = sdb.DB_equilibrium('c:\\home\\codes\\db_info_equilibrium.txt')\n",
    "dbeq.set_table(table_name)\n",
    "for v0, v1, v2 in list(itertools.product(r0, pf17, pf26)):\n",
    "    print(v0, v1, v2)\n",
    "    cnd = condition.copy()\n",
    "    cnd['cur_ip']['r0'] = v0\n",
    "    cnd['cur_pf']['pf17t12'] = v1\n",
    "    cnd['cur_pf']['pf26t18'] = v2\n",
    "    cnd = sb.calc_equilibrium(cnd, verbose=0)\n",
    "    dat = sdb.disassemble_condition(cnd)\n",
    "    dbeq.add_data(dat)"
   ]
  },
  {
   "cell_type": "code",
   "execution_count": null,
   "metadata": {},
   "outputs": [],
   "source": []
  }
 ],
 "metadata": {
  "interpreter": {
   "hash": "f0ba4514462a8f2a4fb76e7183215a80ea7cd0b2bc81425d0540a02e9a6532a8"
  },
  "kernelspec": {
   "display_name": "Python 3.9.1 ('env39')",
   "language": "python",
   "name": "python3"
  },
  "language_info": {
   "codemirror_mode": {
    "name": "ipython",
    "version": 3
   },
   "file_extension": ".py",
   "mimetype": "text/x-python",
   "name": "python",
   "nbconvert_exporter": "python",
   "pygments_lexer": "ipython3",
   "version": "3.9.1"
  },
  "orig_nbformat": 4
 },
 "nbformat": 4,
 "nbformat_minor": 2
}
